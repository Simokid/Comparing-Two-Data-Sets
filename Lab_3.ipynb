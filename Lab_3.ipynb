{
  "cells": [
    {
      "cell_type": "markdown",
      "metadata": {
        "id": "ExjVCDIJfDLM"
      },
      "source": [
        "If you're running this in Google Colab, you can click \"Copy to Drive\" (above &#8593;) or go to **File > Save a Copy in Drive** so you'll have your own version to work on. That requires a Google login.  \n",
        "<hr/>\n",
        "\n",
        "# Analyzing Measurement Uncertainty   \n",
        "We'll use Dr. Natasha Holmes's *Statistics Summary* (linked in the course website) as a guide for how to analyze data in this course. This notebook shows how to do use python to do the calculations in section II *Statistics for Repeated Measurements with Statistical Variation* and section III *Making Comparisons*.\n",
        "\n",
        "If you need to start over from scratch, open a [clean copy of this activity](https://colab.research.google.com/github/adamlamee/UCF_labs/blob/master/making_comparisons.ipynb). If you need a refresher on how to execute this notebook, try the [intro activity](https://colab.research.google.com/github/adamlamee/UCF_labs/blob/master/intro.ipynb).    \n",
        "\n",
        "## II. Statistics for Repeated Measurements with Statistical Variation"
      ]
    },
    {
      "cell_type": "code",
      "execution_count": null,
      "metadata": {
        "id": "s-r5GkmhfDLP"
      },
      "outputs": [],
      "source": [
        "import numpy as np                   # numpy does math\n",
        "import matplotlib.pyplot as plt      # pyplot makes plots"
      ]
    },
    {
      "cell_type": "markdown",
      "source": [
        "Sample A represents the values (shown in \"Data collected\") for the time (in seconds) it took to drop paper from the height of 3 Feet.\n",
        "\n",
        "Sample B represents the values (shown in \"Data collected\") for the time (in seconds) it took to drop paper from the height of 4 Feet."
      ],
      "metadata": {
        "id": "PVdOrNZ812RU"
      }
    },
    {
      "cell_type": "code",
      "execution_count": null,
      "metadata": {
        "id": "HhMsSG92fDLR",
        "colab": {
          "base_uri": "https://localhost:8080/",
          "height": 265
        },
        "outputId": "b32bd1f5-1b10-40fd-835b-79d22328ce44"
      },
      "outputs": [
        {
          "output_type": "display_data",
          "data": {
            "text/plain": [
              "<Figure size 432x288 with 1 Axes>"
            ],
            "image/png": "[encoded data removed]"
          },
          "metadata": {
            "needs_background": "light"
          }
        }
      ],
      "source": [
        "# you can change the measurements and histogram properties\n",
        "# keep the same format (e.g., brackets and commas) to avoid errors\n",
        "\n",
        "sample_a = [0.60, 0.61, 0.64, 0.59, 0.66, 0.66, 0.62, 0.68, 0.58, 0.70]               # some measurements from sample A\n",
        "sample_b = [0.91, 0.90, 0.89, 0.93, 0.90, 0.96, 0.97, 0.94, 0.92, 0.95]               # some measurements from trial B to compare\n",
        "plt.hist((sample_a, sample_b), bins=5, range=[0.5,1.5], color=('pink','purple'));   # makes a histogram"
      ]
    },
    {
      "cell_type": "markdown",
      "source": [],
      "metadata": {
        "id": "cFEzLfeK8xPx"
      }
    },
    {
      "cell_type": "code",
      "execution_count": null,
      "metadata": {
        "id": "gvlO3B8hfDLR",
        "colab": {
          "base_uri": "https://localhost:8080/"
        },
        "outputId": "4b3699b2-5e0d-458c-a630-61417d4a8d05"
      },
      "outputs": [
        {
          "output_type": "execute_result",
          "data": {
            "text/plain": [
              "0.6340000000000001"
            ]
          },
          "metadata": {},
          "execution_count": 29
        }
      ],
      "source": [
        "a_mean = np.mean(sample_a)   # calculates the mean of sample a, saves it as a variable names \"a_mean\"\n",
        "a_mean                       # displays the mean value you just calculated"
      ]
    },
    {
      "cell_type": "code",
      "source": [],
      "metadata": {
        "id": "BKdxE8a_8w0R"
      },
      "execution_count": null,
      "outputs": []
    },
    {
      "cell_type": "code",
      "execution_count": null,
      "metadata": {
        "id": "Xjvvoy0PfDLS",
        "colab": {
          "base_uri": "https://localhost:8080/"
        },
        "outputId": "da233c3f-33e3-45b1-92df-d1701860c043"
      },
      "outputs": [
        {
          "output_type": "execute_result",
          "data": {
            "text/plain": [
              "0.9269999999999999"
            ]
          },
          "metadata": {},
          "execution_count": 30
        }
      ],
      "source": [
        "# try adding code here to find the mean of sample b\n",
        "# copy and paste are a programmers best friends, but rename your variables\n",
        "b_mean = np.mean(sample_b)\n",
        "b_mean"
      ]
    },
    {
      "cell_type": "code",
      "execution_count": null,
      "metadata": {
        "id": "L0t6uRYMfDLS",
        "colab": {
          "base_uri": "https://localhost:8080/"
        },
        "outputId": "fb160c37-22da-4594-fd3c-5dcd62ab5096"
      },
      "outputs": [
        {
          "output_type": "execute_result",
          "data": {
            "text/plain": [
              "0.04033195589934448"
            ]
          },
          "metadata": {},
          "execution_count": 31
        }
      ],
      "source": [
        "a_stdev = np.std(sample_a, ddof=1)      # finds the standard deviation\n",
        "a_stdev"
      ]
    },
    {
      "cell_type": "code",
      "execution_count": null,
      "metadata": {
        "id": "HdPIvlkdfDLS",
        "colab": {
          "base_uri": "https://localhost:8080/"
        },
        "outputId": "85800cd7-5417-4f6e-fb0a-4eb35cb0046e"
      },
      "outputs": [
        {
          "output_type": "execute_result",
          "data": {
            "text/plain": [
              "0.027507574714370316"
            ]
          },
          "metadata": {},
          "execution_count": 32
        }
      ],
      "source": [
        "# try that again for sample b's standard deviation\n",
        "b_stdev = np.std(sample_b, ddof=1)\n",
        "b_stdev"
      ]
    },
    {
      "cell_type": "code",
      "execution_count": null,
      "metadata": {
        "id": "-AFqttu9fDLT",
        "colab": {
          "base_uri": "https://localhost:8080/"
        },
        "outputId": "18db3a82-aaf4-4395-f269-e56bfc1a127b"
      },
      "outputs": [
        {
          "output_type": "execute_result",
          "data": {
            "text/plain": [
              "10"
            ]
          },
          "metadata": {},
          "execution_count": 33
        }
      ],
      "source": [
        "a_count = len(sample_a)      # \"a_count\" is now a variable with the number of observations in sample a\n",
        "a_count"
      ]
    },
    {
      "cell_type": "code",
      "execution_count": null,
      "metadata": {
        "id": "ENFj2bLvfDLU",
        "colab": {
          "base_uri": "https://localhost:8080/"
        },
        "outputId": "bdd05be8-c387-4fb8-89cf-aa67eda13819"
      },
      "outputs": [
        {
          "output_type": "execute_result",
          "data": {
            "text/plain": [
              "10"
            ]
          },
          "metadata": {},
          "execution_count": 34
        }
      ],
      "source": [
        "# now count the observations in sample b\n",
        "b_count = len(sample_b)      # \"a_count\" is now a variable with the number of observations in sample a\n",
        "b_count"
      ]
    },
    {
      "cell_type": "code",
      "execution_count": null,
      "metadata": {
        "id": "Zw72dbMufDLU",
        "colab": {
          "base_uri": "https://localhost:8080/"
        },
        "outputId": "15b57941-d47b-4cf3-af73-0aa78bdd0e06"
      },
      "outputs": [
        {
          "output_type": "execute_result",
          "data": {
            "text/plain": [
              "0.012754084313139331"
            ]
          },
          "metadata": {},
          "execution_count": 35
        }
      ],
      "source": [
        "# finding standard uncertainty\n",
        "a_stunc = a_stdev / np.sqrt(a_count)       # python can do algebra\n",
        "a_stunc"
      ]
    },
    {
      "cell_type": "code",
      "execution_count": null,
      "metadata": {
        "id": "cFTbP-xIfDLV",
        "colab": {
          "base_uri": "https://localhost:8080/"
        },
        "outputId": "20f26abb-448e-4dea-a3ac-0ade25411286"
      },
      "outputs": [
        {
          "output_type": "execute_result",
          "data": {
            "text/plain": [
              "0.008698658900466583"
            ]
          },
          "metadata": {},
          "execution_count": 36
        }
      ],
      "source": [
        "# how about sample b's standard uncertainty?\n",
        "b_stunc = b_stdev / np.sqrt(b_count)\n",
        "b_stunc"
      ]
    },
    {
      "cell_type": "markdown",
      "metadata": {
        "id": "-Aa52GBwfDLV"
      },
      "source": [
        "[link text](https://)## III. Comparing Means"
      ]
    },
    {
      "cell_type": "code",
      "execution_count": null,
      "metadata": {
        "id": "6N2WuJsyfDLV",
        "colab": {
          "base_uri": "https://localhost:8080/"
        },
        "outputId": "ab8d079f-e3b0-4b35-b279-2a36750eb87e"
      },
      "outputs": [
        {
          "output_type": "execute_result",
          "data": {
            "text/plain": [
              "18.979083075996954"
            ]
          },
          "metadata": {},
          "execution_count": 37
        }
      ],
      "source": [
        "# t' statistic\n",
        "# for the code below to work, you'll need to have done the calculations for sample b above, too\n",
        "t_prime = abs((a_mean - b_mean) / np.sqrt(a_stunc**2 + b_stunc**2))\n",
        "t_prime"
      ]
    },
    {
      "cell_type": "markdown",
      "metadata": {
        "id": "BEdQGfrwfDLW"
      },
      "source": [
        "Nicely done. If you found a t' of about 1.1, congrats! If not, check your math or start over with a [clean copy of this activity](https://colab.research.google.com/github/adamlamee/UCF_labs/blob/master/making_comparisons.ipynb).  \n",
        "\n",
        "\n",
        "# IV. Plotting the Results  \n",
        "Two options for plotting your data are given below.\n",
        "\n",
        "A **scatterplot** is pretty standard when your independent variable has levels that are numeric, like distances or lengths. Want to customize this type of plot even more? See matplotlib's [scatter](https://matplotlib.org/stable/api/_as_gen/matplotlib.pyplot.scatter.html) and [errorbar](https://matplotlib.org/stable/api/_as_gen/matplotlib.pyplot.errorbar.html) pages.\n",
        "\n",
        "A **barplot** is more appropriate when your independent variable has levels that aren't numeric, like \"facing left\" and \"facing right\". Want to customize this type of plot even more? See matplotlib's [barplot](https://matplotlib.org/stable/api/_as_gen/matplotlib.pyplot.bar.html) page."
      ]
    },
    {
      "cell_type": "code",
      "execution_count": null,
      "metadata": {
        "id": "LSCbXs7WfDLW",
        "colab": {
          "base_uri": "https://localhost:8080/",
          "height": 295
        },
        "outputId": "d81e2609-8ca6-4c75-c48f-18efaa153c4d"
      },
      "outputs": [
        {
          "output_type": "display_data",
          "data": {
            "text/plain": [
              "<Figure size 432x288 with 1 Axes>"
            ],
            "image/png": "[encoded data removed]"
          },
          "metadata": {
            "needs_background": "light"
          }
        }
      ],
      "source": [
        "# here's a scatterplot for numeric IV levels\n",
        "\n",
        "# set up the values that get plotted\n",
        "x_values = [3,4]\n",
        "y_values = [a_mean, b_mean]\n",
        "errorbars = [2*a_stunc, 2*b_stunc]  # this is totally wrong; edit this to be twice the std unc for a and b\n",
        "\n",
        "# this part makes the plot\n",
        "fig, ax = plt.subplots()\n",
        "ax.scatter(x_values, y_values)\n",
        "ax.errorbar(x_values, y_values, yerr=errorbars, ecolor='black', capsize=10, fmt='o')\n",
        "\n",
        "# edit these so your plot looks nice\n",
        "ax.set_xlabel('Trial A & Trial B (Ft)')\n",
        "ax.set_ylabel('Time(s)')\n",
        "ax.set_title('Dropping a paper from two heights')\n",
        "ax.set_xlim(0,5)\n",
        "ax.set_ylim(0,5)\n",
        "ax.grid(False)\n",
        "plt.show()"
      ]
    },
    {
      "cell_type": "code",
      "execution_count": null,
      "metadata": {
        "id": "8A9HE-oqfDLW",
        "colab": {
          "base_uri": "https://localhost:8080/",
          "height": 281
        },
        "outputId": "6c6434e9-a8af-4f20-ec27-fa533bd1ae5c"
      },
      "outputs": [
        {
          "output_type": "display_data",
          "data": {
            "text/plain": [
              "<Figure size 432x288 with 1 Axes>"
            ],
            "image/png": "[encoded data removed]"
          },
          "metadata": {
            "needs_background": "light"
          }
        }
      ],
      "source": [
        "# here's a barplot for non-numeric (\"categorical\") IV levels\n",
        "\n",
        "# set up the values that get plotted\n",
        "bar_labels = [\"3 Feet\", \"4 Feet\"]     # you'll want to edit these labels\n",
        "bar_heights = [a_mean, b_mean]     # these will be the heights of the bars, in order\n",
        "errorbars = [2*a_stunc, 2*b_stunc]  # this is totally wrong; edit this to be twice the std unc for a and b\n",
        "\n",
        "# this part makes the plot\n",
        "fig, ax = plt.subplots()\n",
        "ax.bar(bar_labels, bar_heights, yerr=errorbars, align='center', alpha=0.5, color='green', ecolor='black', capsize=10)\n",
        "\n",
        "# edit these so your plot looks nice\n",
        "ax.set_xlabel('')\n",
        "ax.set_ylabel('Time(s)')\n",
        "ax.set_title('Dropping a paper from two heights')\n",
        "ax.grid(False)\n",
        "plt.show()"
      ]
    },
    {
      "cell_type": "markdown",
      "metadata": {
        "id": "uBg8cD3KfDLX"
      },
      "source": [
        "<hr/>  \n",
        "\n",
        "# Credits\n",
        "This notebook was written by [Adam LaMee](http://www.adamlamee.com) with contributions by UCF graduate student Ifthakar Bin Elius. Thanks to the great folks at [Binder](https://mybinder.org/) and [Google Colaboratory](https://colab.research.google.com/notebooks/intro.ipynb) for making this notebook interactive without you needing to download it or install [Jupyter](https://jupyter.org/) on your own device."
      ]
    }
  ],
  "metadata": {
    "kernelspec": {
      "display_name": "Python 3 (ipykernel)",
      "language": "python",
      "name": "python3"
    },
    "language_info": {
      "codemirror_mode": {
        "name": "ipython",
        "version": 3
      },
      "file_extension": ".py",
      "mimetype": "text/x-python",
      "name": "python",
      "nbconvert_exporter": "python",
      "pygments_lexer": "ipython3",
      "version": "3.7.11"
    },
    "colab": {
      "provenance": []
    }
  },
  "nbformat": 4,
  "nbformat_minor": 0
}