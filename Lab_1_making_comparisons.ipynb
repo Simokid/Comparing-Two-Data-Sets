{
  "cells": [
    {
      "cell_type": "markdown",
      "metadata": {
        "id": "ExjVCDIJfDLM"
      },
      "source": [
        "If you're running this in Google Colab, you can click \"Copy to Drive\" (above &#8593;) or go to **File > Save a Copy in Drive** so you'll have your own version to work on. That requires a Google login.  \n",
        "<hr/>\n",
        "\n",
        "# Analyzing Measurement Uncertainty   \n",
        "We'll use Dr. Natasha Holmes's *Statistics Summary* (linked in the course website) as a guide for how to analyze data in this course. This notebook shows how to do use python to do the calculations in section II *Statistics for Repeated Measurements with Statistical Variation* and section III *Making Comparisons*.\n",
        "\n",
        "If you need to start over from scratch, open a [clean copy of this activity](https://colab.research.google.com/github/adamlamee/UCF_labs/blob/master/making_comparisons.ipynb). If you need a refresher on how to execute this notebook, try the [intro activity](https://colab.research.google.com/github/adamlamee/UCF_labs/blob/master/intro.ipynb).    \n",
        "\n",
        "## II. Statistics for Repeated Measurements with Statistical Variation"
      ]
    },
    {
      "cell_type": "code",
      "execution_count": null,
      "metadata": {
        "id": "s-r5GkmhfDLP"
      },
      "outputs": [],
      "source": [
        "import numpy as np                   # numpy does math\n",
        "import matplotlib.pyplot as plt      # pyplot makes plots"
      ]
    },
    {
      "cell_type": "markdown",
      "source": [
        "#Sample A represents the values (shown in \"Data collected\") for the time (in seconds) it took to drop paper from the height of 3 Feet.\n",
        "#Sample B represents the values (shown in \"Data collected\") for the time (in seconds) it took to drop paper from the height of 5 Feet."
      ],
      "metadata": {
        "id": "PVdOrNZ812RU"
      }
    },
    {
      "cell_type": "code",
      "execution_count": null,
      "metadata": {
        "id": "HhMsSG92fDLR",
        "colab": {
          "base_uri": "https://localhost:8080/",
          "height": 265
        },
        "outputId": "74144f11-3ec8-409b-e347-82ea511e5af9"
      },
      "outputs": [
        {
          "output_type": "display_data",
          "data": {
            "text/plain": [
              "<Figure size 432x288 with 1 Axes>"
            ],
            "image/png": "[encoded data removed]"
          },
          "metadata": {
            "needs_background": "light"
          }
        }
      ],
      "source": [
        "# you can change the measurements and histogram properties\n",
        "# keep the same format (e.g., brackets and commas) to avoid errors\n",
        "\n",
        "sample_a = [0.60, 0.58, 0.63, 0.65, 0.62, 0.67, 0.63, 0.72]               # some measurements from sample A\n",
        "sample_b = [1.13, 1.26, 1.23, 1.10, 1.18, 1.21, 1.08, 1.10]               # some measurements from trial B to compare\n",
        "plt.hist((sample_a, sample_b), bins=5, range=[0.5,1.5], color=('pink','purple'));   # makes a histogram"
      ]
    },
    {
      "cell_type": "markdown",
      "source": [],
      "metadata": {
        "id": "cFEzLfeK8xPx"
      }
    },
    {
      "cell_type": "code",
      "execution_count": null,
      "metadata": {
        "id": "gvlO3B8hfDLR",
        "colab": {
          "base_uri": "https://localhost:8080/"
        },
        "outputId": "ee64e62d-c5a6-42db-8ef4-cc22a8d1c4d1"
      },
      "outputs": [
        {
          "output_type": "execute_result",
          "data": {
            "text/plain": [
              "0.6375"
            ]
          },
          "metadata": {},
          "execution_count": 4
        }
      ],
      "source": [
        "a_mean = np.mean(sample_a)   # calculates the mean of sample a, saves it as a variable names \"a_mean\"\n",
        "a_mean                       # displays the mean value you just calculated"
      ]
    },
    {
      "cell_type": "code",
      "source": [],
      "metadata": {
        "id": "BKdxE8a_8w0R"
      },
      "execution_count": null,
      "outputs": []
    },
    {
      "cell_type": "code",
      "execution_count": null,
      "metadata": {
        "id": "Xjvvoy0PfDLS",
        "colab": {
          "base_uri": "https://localhost:8080/"
        },
        "outputId": "c255b353-186a-4c9e-891f-9e4137ed1288"
      },
      "outputs": [
        {
          "output_type": "execute_result",
          "data": {
            "text/plain": [
              "1.16125"
            ]
          },
          "metadata": {},
          "execution_count": 5
        }
      ],
      "source": [
        "# try adding code here to find the mean of sample b\n",
        "# copy and paste are a programmers best friends, but rename your variables\n",
        "b_mean = np.mean(sample_b)\n",
        "b_mean"
      ]
    },
    {
      "cell_type": "code",
      "execution_count": null,
      "metadata": {
        "id": "L0t6uRYMfDLS",
        "colab": {
          "base_uri": "https://localhost:8080/"
        },
        "outputId": "d0d0a17d-c23b-4aca-ca01-b43b6506a40c"
      },
      "outputs": [
        {
          "output_type": "execute_result",
          "data": {
            "text/plain": [
              "0.043342489875080194"
            ]
          },
          "metadata": {},
          "execution_count": 6
        }
      ],
      "source": [
        "a_stdev = np.std(sample_a, ddof=1)      # finds the standard deviation\n",
        "a_stdev"
      ]
    },
    {
      "cell_type": "code",
      "execution_count": null,
      "metadata": {
        "id": "HdPIvlkdfDLS",
        "colab": {
          "base_uri": "https://localhost:8080/"
        },
        "outputId": "ad6ebcc1-e740-406a-dfa8-410059407f77"
      },
      "outputs": [
        {
          "output_type": "execute_result",
          "data": {
            "text/plain": [
              "0.06791538853603059"
            ]
          },
          "metadata": {},
          "execution_count": 7
        }
      ],
      "source": [
        "# try that again for sample b's standard deviation\n",
        "b_stdev = np.std(sample_b, ddof=1)\n",
        "b_stdev"
      ]
    },
    {
      "cell_type": "code",
      "execution_count": null,
      "metadata": {
        "id": "-AFqttu9fDLT",
        "colab": {
          "base_uri": "https://localhost:8080/"
        },
        "outputId": "ee30ec5b-59f8-4b4d-e843-38ecce0fd815"
      },
      "outputs": [
        {
          "output_type": "execute_result",
          "data": {
            "text/plain": [
              "8"
            ]
          },
          "metadata": {},
          "execution_count": 8
        }
      ],
      "source": [
        "a_count = len(sample_a)      # \"a_count\" is now a variable with the number of observations in sample a\n",
        "a_count"
      ]
    },
    {
      "cell_type": "code",
      "execution_count": null,
      "metadata": {
        "id": "ENFj2bLvfDLU",
        "colab": {
          "base_uri": "https://localhost:8080/"
        },
        "outputId": "b0144b52-50e2-4a15-b0ec-8676af815892"
      },
      "outputs": [
        {
          "output_type": "execute_result",
          "data": {
            "text/plain": [
              "8"
            ]
          },
          "metadata": {},
          "execution_count": 9
        }
      ],
      "source": [
        "# now count the observations in sample b\n",
        "b_count = len(sample_b)      # \"a_count\" is now a variable with the number of observations in sample a\n",
        "b_count"
      ]
    },
    {
      "cell_type": "code",
      "execution_count": null,
      "metadata": {
        "id": "Zw72dbMufDLU",
        "colab": {
          "base_uri": "https://localhost:8080/"
        },
        "outputId": "787d0f0c-e038-42eb-e5d9-6a48ad4cd6e0"
      },
      "outputs": [
        {
          "output_type": "execute_result",
          "data": {
            "text/plain": [
              "0.01532388425208924"
            ]
          },
          "metadata": {},
          "execution_count": 10
        }
      ],
      "source": [
        "# finding standard uncertainty\n",
        "a_stunc = a_stdev / np.sqrt(a_count)       # python can do algebra\n",
        "a_stunc"
      ]
    },
    {
      "cell_type": "code",
      "execution_count": null,
      "metadata": {
        "id": "cFTbP-xIfDLV",
        "colab": {
          "base_uri": "https://localhost:8080/"
        },
        "outputId": "dd7ab76e-fab1-4d38-8260-19a741ad2461"
      },
      "outputs": [
        {
          "output_type": "execute_result",
          "data": {
            "text/plain": [
              "0.024011715890373167"
            ]
          },
          "metadata": {},
          "execution_count": 11
        }
      ],
      "source": [
        "# how about sample b's standard uncertainty?\n",
        "b_stunc = b_stdev / np.sqrt(b_count)\n",
        "b_stunc"
      ]
    },
    {
      "cell_type": "markdown",
      "metadata": {
        "id": "-Aa52GBwfDLV"
      },
      "source": [
        "## III. Comparing Means"
      ]
    },
    {
      "cell_type": "code",
      "execution_count": null,
      "metadata": {
        "id": "6N2WuJsyfDLV",
        "colab": {
          "base_uri": "https://localhost:8080/"
        },
        "outputId": "827976d4-3d42-4166-94ad-651c77daad9d"
      },
      "outputs": [
        {
          "output_type": "execute_result",
          "data": {
            "text/plain": [
              "18.386998277033015"
            ]
          },
          "metadata": {},
          "execution_count": 12
        }
      ],
      "source": [
        "# t' statistic\n",
        "# for the code below to work, you'll need to have done the calculations for sample b above, too\n",
        "t_prime = abs((a_mean - b_mean) / np.sqrt(a_stunc**2 + b_stunc**2))\n",
        "t_prime"
      ]
    },
    {
      "cell_type": "markdown",
      "metadata": {
        "id": "BEdQGfrwfDLW"
      },
      "source": [
        "Nicely done. If you found a t' of about 1.1, congrats! If not, check your math or start over with a [clean copy of this activity](https://colab.research.google.com/github/adamlamee/UCF_labs/blob/master/making_comparisons.ipynb).  \n",
        "\n",
        "\n",
        "# IV. Plotting the Results  \n",
        "Two options for plotting your data are given below.\n",
        "\n",
        "A **scatterplot** is pretty standard when your independent variable has levels that are numeric, like distances or lengths. Want to customize this type of plot even more? See matplotlib's [scatter](https://matplotlib.org/stable/api/_as_gen/matplotlib.pyplot.scatter.html) and [errorbar](https://matplotlib.org/stable/api/_as_gen/matplotlib.pyplot.errorbar.html) pages.\n",
        "\n",
        "A **barplot** is more appropriate when your independent variable has levels that aren't numeric, like \"facing left\" and \"facing right\". Want to customize this type of plot even more? See matplotlib's [barplot](https://matplotlib.org/stable/api/_as_gen/matplotlib.pyplot.bar.html) page."
      ]
    },
    {
      "cell_type": "code",
      "execution_count": null,
      "metadata": {
        "id": "LSCbXs7WfDLW",
        "colab": {
          "base_uri": "https://localhost:8080/",
          "height": 295
        },
        "outputId": "b14e6c2f-3a7a-4ee9-ce65-70268d15c734"
      },
      "outputs": [
        {
          "output_type": "display_data",
          "data": {
            "text/plain": [
              "<Figure size 432x288 with 1 Axes>"
            ],
            "image/png": "[encoded data removed]"
          },
          "metadata": {
            "needs_background": "light"
          }
        }
      ],
      "source": [
        "# here's a scatterplot for numeric IV levels\n",
        "\n",
        "# set up the values that get plotted\n",
        "x_values = [3,5]\n",
        "y_values = [a_mean, b_mean]\n",
        "errorbars = [2*a_stunc, 2*b_stunc]  # this is totally wrong; edit this to be twice the std unc for a and b\n",
        "\n",
        "# this part makes the plot\n",
        "fig, ax = plt.subplots()\n",
        "ax.scatter(x_values, y_values)\n",
        "ax.errorbar(x_values, y_values, yerr=errorbars, ecolor='black', capsize=10, fmt='o')\n",
        "\n",
        "# edit these so your plot looks nice\n",
        "ax.set_xlabel('Trial A & Trial B')\n",
        "ax.set_ylabel('Time(s)')\n",
        "ax.set_title('Dropping a paper from two heights')\n",
        "ax.set_xlim(0,15)\n",
        "ax.set_ylim(0,5)\n",
        "ax.grid(False)\n",
        "plt.show()"
      ]
    },
    {
      "cell_type": "code",
      "execution_count": null,
      "metadata": {
        "id": "8A9HE-oqfDLW",
        "colab": {
          "base_uri": "https://localhost:8080/",
          "height": 281
        },
        "outputId": "89fe6c9c-31dd-4858-a184-1f8c1e1a60e9"
      },
      "outputs": [
        {
          "output_type": "display_data",
          "data": {
            "text/plain": [
              "<Figure size 432x288 with 1 Axes>"
            ],
            "image/png": "[encoded data removed]"
          },
          "metadata": {
            "needs_background": "light"
          }
        }
      ],
      "source": [
        "# here's a barplot for non-numeric (\"categorical\") IV levels\n",
        "\n",
        "# set up the values that get plotted\n",
        "bar_labels = [\"3 Feet\", \"5 Feet\"]     # you'll want to edit these labels\n",
        "bar_heights = [a_mean, b_mean]     # these will be the heights of the bars, in order\n",
        "errorbars = [2*a_stunc, 2*b_stunc]  # this is totally wrong; edit this to be twice the std unc for a and b\n",
        "\n",
        "# this part makes the plot\n",
        "fig, ax = plt.subplots()\n",
        "ax.bar(bar_labels, bar_heights, yerr=errorbars, align='center', alpha=0.5, color='green', ecolor='black', capsize=10)\n",
        "\n",
        "# edit these so your plot looks nice\n",
        "ax.set_xlabel('')\n",
        "ax.set_ylabel('Time(s)')\n",
        "ax.set_title('Dropping a paper from two heights')\n",
        "ax.grid(False)\n",
        "plt.show()"
      ]
    },
    {
      "cell_type": "markdown",
      "metadata": {
        "id": "uBg8cD3KfDLX"
      },
      "source": [
        "<hr/>  \n",
        "\n",
        "# Credits\n",
        "This notebook was written by [Adam LaMee](http://www.adamlamee.com) with contributions by UCF graduate student Ifthakar Bin Elius. Thanks to the great folks at [Binder](https://mybinder.org/) and [Google Colaboratory](https://colab.research.google.com/notebooks/intro.ipynb) for making this notebook interactive without you needing to download it or install [Jupyter](https://jupyter.org/) on your own device."
      ]
    }
  ],
  "metadata": {
    "kernelspec": {
      "display_name": "Python 3 (ipykernel)",
      "language": "python",
      "name": "python3"
    },
    "language_info": {
      "codemirror_mode": {
        "name": "ipython",
        "version": 3
      },
      "file_extension": ".py",
      "mimetype": "text/x-python",
      "name": "python",
      "nbconvert_exporter": "python",
      "pygments_lexer": "ipython3",
      "version": "3.7.11"
    },
    "colab": {
      "provenance": []
    }
  },
  "nbformat": 4,
  "nbformat_minor": 0
}